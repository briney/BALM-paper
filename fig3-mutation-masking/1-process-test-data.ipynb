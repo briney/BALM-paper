{
 "cells": [
  {
   "cell_type": "markdown",
   "id": "fc18b57a-e8d1-494c-a2be-7a2a8e0e43ae",
   "metadata": {},
   "source": [
    "# Process test dataset for mutation masking"
   ]
  },
  {
   "cell_type": "code",
   "execution_count": null,
   "id": "db14c251-b2a5-405b-9948-10012cf4661f",
   "metadata": {},
   "outputs": [],
   "source": [
    "import os\n",
    "import sys\n",
    "\n",
    "from tqdm.notebook import tqdm\n",
    "\n",
    "import pandas as pd\n",
    "import numpy as np\n",
    "\n",
    "import abutils\n",
    "\n",
    "from abutils.utils.codons import codon_lookup"
   ]
  },
  {
   "cell_type": "markdown",
   "id": "2f035828-ca9e-4f94-9742-3c487efc477b",
   "metadata": {},
   "source": [
    "## load and filter sequences"
   ]
  },
  {
   "cell_type": "code",
   "execution_count": null,
   "id": "6f2a5201-8dbe-4cbf-a541-58e17a4e452f",
   "metadata": {},
   "outputs": [],
   "source": [
    "# replace with actual path to data\n",
    "# this should be the AIRR-annotated test set\n",
    "data_path = './data/lc-coherence_test-unique_annotated.csv'"
   ]
  },
  {
   "cell_type": "code",
   "execution_count": null,
   "id": "3f7075e0-2cc2-46dd-bd4b-6c13bc9c744a",
   "metadata": {},
   "outputs": [],
   "source": [
    "seqs = abutils.io.read_csv(data_path)"
   ]
  },
  {
   "cell_type": "code",
   "execution_count": null,
   "id": "35e555ff-1951-41cb-9e97-0a3b59b9af5a",
   "metadata": {},
   "outputs": [],
   "source": [
    "pairs = abutils.pair.assign_pairs(seqs, id_key='pair_id')\n",
    "len(pairs)"
   ]
  },
  {
   "cell_type": "markdown",
   "id": "973cd182-1893-4ce9-b6f7-5eb751549485",
   "metadata": {},
   "source": [
    "we just want pairs with mutations in both heavy and light chains (which can be masked):"
   ]
  },
  {
   "cell_type": "code",
   "execution_count": null,
   "id": "d9b4bead-1214-44b2-8893-aa3c298c9b4c",
   "metadata": {},
   "outputs": [],
   "source": [
    "mutated_pairs = [p for p in pairs if p.heavy['v_mutation_count_aa'] > 2 and p.light['v_mutation_count_aa'] > 2]\n",
    "len(mutated_pairs)                                                      "
   ]
  },
  {
   "cell_type": "markdown",
   "id": "ea879ef2-b180-4da1-a77b-9a1ba5d1be91",
   "metadata": {},
   "source": [
    "we also want sequences without indels, since we can't really mask/predict those (since our vocab is just AAs and doesn't include a gap character):"
   ]
  },
  {
   "cell_type": "code",
   "execution_count": null,
   "id": "b6fcfeed-cc0b-4140-b103-ab4cc1422701",
   "metadata": {},
   "outputs": [],
   "source": [
    "mutated_pairs = [p for p in mutated_pairs if not any(['-' in s for s in [p.heavy['sequence_alignment'],\n",
    "                                                                         p.light['sequence_alignment'],\n",
    "                                                                         p.heavy['germline_alignment'],\n",
    "                                                                         p.light['germline_alignment']]])]\n",
    "len(mutated_pairs)"
   ]
  },
  {
   "cell_type": "markdown",
   "id": "6ea963d7-ecb3-4e63-b33f-e3be7226cfed",
   "metadata": {},
   "source": [
    "## build masked and reverted datasets"
   ]
  },
  {
   "cell_type": "markdown",
   "id": "a78d4560-07f9-47b3-8687-73c643ccdad1",
   "metadata": {},
   "source": [
    "this builds datasets needed for both the paired and unpaired models"
   ]
  },
  {
   "cell_type": "code",
   "execution_count": null,
   "id": "7aaf2547-97cd-4fdb-9b7d-15ad93ad121e",
   "metadata": {},
   "outputs": [],
   "source": [
    "def translate(nt):\n",
    "    aa = []\n",
    "    for i in range(0, len(nt), 3):\n",
    "        codon = nt[i:i+3]\n",
    "        if len(codon) != 3:\n",
    "            break\n",
    "        aa.append(codon_lookup[codon])\n",
    "    return ''.join(aa)"
   ]
  },
  {
   "cell_type": "code",
   "execution_count": null,
   "id": "75dea95b-74de-4675-acd7-ce8325c7d5a8",
   "metadata": {},
   "outputs": [],
   "source": [
    "pair_ids = []\n",
    "hseqs = []\n",
    "lseqs = []\n",
    "paired_seqs = []\n",
    "hmasked = []\n",
    "lmasked = []\n",
    "hmask_lmutated = []\n",
    "hmask_lreverted = []\n",
    "lmask_hmutated = []\n",
    "lmask_hreverted = []\n",
    "\n",
    "for p in tqdm(mutated_pairs):\n",
    "    # heavy chains\n",
    "    hmask = ''\n",
    "    hseq = translate(p.heavy['sequence_alignment'])\n",
    "    hgerm = translate(p.heavy['germline_alignment'])\n",
    "    for s, g in zip(hseq, hgerm):\n",
    "        if s != g:\n",
    "            hmask += '<mask>'\n",
    "        else:\n",
    "            hmask += s\n",
    "    \n",
    "    # light chains\n",
    "    lmask = ''\n",
    "    lseq = translate(p.light['sequence_alignment'])\n",
    "    lgerm = translate(p.light['germline_alignment'])\n",
    "    for s, g in zip(lseq, lgerm):\n",
    "        if s != g:\n",
    "            lmask += '<mask>'\n",
    "        else:\n",
    "            lmask += s\n",
    "\n",
    "    # ids\n",
    "    pair_ids.append(p.name)\n",
    "    \n",
    "    # for unpaired model\n",
    "    hseqs.append(hseq)\n",
    "    lseqs.append(lseq)\n",
    "    hmasked.append(hmask)\n",
    "    lmasked.append(lmask)\n",
    "    \n",
    "    # for paired models\n",
    "    paired_seqs.append(hseq + '</s>' + lseq)\n",
    "    hmask_lmutated.append(hmask + '</s>' + lseq)\n",
    "    hmask_lreverted.append(hmask + '</s>' + lgerm)\n",
    "    lmask_hmutated.append(hseq + '</s>' + lmask)\n",
    "    lmask_hreverted.append(hgerm + '</s>' + lmask)"
   ]
  },
  {
   "cell_type": "markdown",
   "id": "3f9cd34b-e2b3-446e-bada-05e479a388ca",
   "metadata": {},
   "source": [
    "## save files"
   ]
  },
  {
   "cell_type": "code",
   "execution_count": null,
   "id": "e69a402b-ebad-4424-985f-475ff12dc885",
   "metadata": {},
   "outputs": [],
   "source": [
    "# pair ids\n",
    "with open('./data/pair_ids.txt', 'w') as f:\n",
    "    f.write('\\n'.join(pair_ids))"
   ]
  },
  {
   "cell_type": "code",
   "execution_count": null,
   "id": "64aec0c2-8e1f-458e-b19d-d99e4a7eca2c",
   "metadata": {},
   "outputs": [],
   "source": [
    "# unpaired - masked\n",
    "with open('./data/heavy-masked.txt', 'w') as f:\n",
    "    f.write('\\n'.join(hmasked))\n",
    "\n",
    "with open('./data/light-masked.txt', 'w') as f:\n",
    "    f.write('\\n'.join(lmasked))"
   ]
  },
  {
   "cell_type": "code",
   "execution_count": null,
   "id": "d8bdeab9-463d-47f8-af02-d619262bf2ca",
   "metadata": {},
   "outputs": [],
   "source": [
    "# unpaired - labels\n",
    "with open('./data/heavy_labels.txt', 'w') as f:\n",
    "    f.write('\\n'.join(hseqs))\n",
    "\n",
    "with open('./data/light_labels.txt', 'w') as f:\n",
    "    f.write('\\n'.join(lseqs))"
   ]
  },
  {
   "cell_type": "code",
   "execution_count": null,
   "id": "d219e8c3-aebb-44ea-b3bf-7858a5315173",
   "metadata": {},
   "outputs": [],
   "source": [
    "# paired - masked heavy chain\n",
    "with open('./data/heavy-masked_light-mutated.txt', 'w') as f:\n",
    "    f.write('\\n'.join(hmask_lmutated))\n",
    "\n",
    "with open('./data/heavy-masked_light-reverted.txt', 'w') as f:\n",
    "    f.write('\\n'.join(hmask_lreverted))"
   ]
  },
  {
   "cell_type": "code",
   "execution_count": null,
   "id": "1b3b4b65-ae23-4f75-acc2-ad2c6a82b30c",
   "metadata": {},
   "outputs": [],
   "source": [
    "# paired - masked light chain\n",
    "with open('./data/light-masked_heavy-mutated.txt', 'w') as f:\n",
    "    f.write('\\n'.join(lmask_hmutated))\n",
    "\n",
    "with open('./data/light-masked_heavy-reverted.txt', 'w') as f:\n",
    "    f.write('\\n'.join(lmask_hreverted))"
   ]
  },
  {
   "cell_type": "code",
   "execution_count": null,
   "id": "2cd71f5a-7fcc-4282-aaf7-1e8d9caa316b",
   "metadata": {},
   "outputs": [],
   "source": [
    "# paired - labels\n",
    "with open('./data/paired_labels.txt', 'w') as f:\n",
    "    f.write('\\n'.join(paired_seqs))"
   ]
  }
 ],
 "metadata": {
  "kernelspec": {
   "display_name": "Python 3 (ipykernel)",
   "language": "python",
   "name": "python3"
  },
  "language_info": {
   "codemirror_mode": {
    "name": "ipython",
    "version": 3
   },
   "file_extension": ".py",
   "mimetype": "text/x-python",
   "name": "python",
   "nbconvert_exporter": "python",
   "pygments_lexer": "ipython3",
   "version": "3.11.9"
  }
 },
 "nbformat": 4,
 "nbformat_minor": 5
}
