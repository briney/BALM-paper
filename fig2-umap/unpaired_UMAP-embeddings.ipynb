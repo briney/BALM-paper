{
 "cells": [
  {
   "cell_type": "markdown",
   "id": "c7d02257-352f-4fd1-9d45-8ffabcfb1893",
   "metadata": {},
   "source": [
    "# UMAP embeddings for BALM-paired\n",
    "\n",
    "The code below extracts the final layer embeddings for either of our paired sequence models (BALM-paired or BALM-shuffled), reduces via UMAP, and plots clusters (colored by v-gene and mutation)"
   ]
  },
  {
   "cell_type": "markdown",
   "id": "3ff197f5-03b6-436c-9599-ecc0804acd7d",
   "metadata": {},
   "source": [
    "## setup"
   ]
  },
  {
   "cell_type": "code",
   "execution_count": null,
   "id": "86e3638a-ff3f-479e-80e5-b7b18bae5a49",
   "metadata": {
    "tags": []
   },
   "outputs": [],
   "source": [
    "from dataclasses import dataclass\n",
    "import pickle\n",
    "from tqdm.notebook import tqdm\n",
    "\n",
    "import numpy as np\n",
    "import pandas as pd\n",
    "\n",
    "import torch\n",
    "from transformers import RobertaTokenizer, RobertaForMaskedLM\n",
    "\n",
    "import umap\n",
    "import abutils\n",
    "import seaborn as sns\n",
    "import matplotlib as mpl\n",
    "from scatterplot import scatter\n",
    "from natsort import natsorted"
   ]
  },
  {
   "cell_type": "markdown",
   "id": "caf9f11b-012f-4370-b557-dcd7f3358938",
   "metadata": {},
   "source": [
    "## load model"
   ]
  },
  {
   "cell_type": "code",
   "execution_count": null,
   "id": "a279516b-99bd-4bef-b9f0-3d562bfa03c1",
   "metadata": {
    "tags": []
   },
   "outputs": [],
   "source": [
    "# replace with actual path to model\n",
    "model_path = './models/BALM-unpaired/' "
   ]
  },
  {
   "cell_type": "code",
   "execution_count": null,
   "id": "5a4510ef-b4d7-42c5-873a-005877770a4f",
   "metadata": {
    "tags": []
   },
   "outputs": [],
   "source": [
    "model = RobertaForMaskedLM.from_pretrained(model_path).to('cuda')"
   ]
  },
  {
   "cell_type": "markdown",
   "id": "cf9eb5bb-d303-449b-8dd3-ce7646da8f93",
   "metadata": {},
   "source": [
    "## tokenizer"
   ]
  },
  {
   "cell_type": "code",
   "execution_count": null,
   "id": "132c633a-f7df-4c1b-84de-771f506f9e13",
   "metadata": {
    "tags": []
   },
   "outputs": [],
   "source": [
    "tokenizer = RobertaTokenizer.from_pretrained('../tokenizer/')"
   ]
  },
  {
   "cell_type": "markdown",
   "id": "45b1dd31-b174-4366-ba39-cd93ae84a783",
   "metadata": {},
   "source": [
    "## load data"
   ]
  },
  {
   "cell_type": "code",
   "execution_count": null,
   "id": "e7cfb073-1a08-4c5e-b117-457df49ecd4a",
   "metadata": {},
   "outputs": [],
   "source": [
    "# replace with actual path to data\n",
    "# this is a subset of 20k paired sequences from the AIRR-annotated test dataset\n",
    "data_path = './test-20kembeddings_annotated.csv'"
   ]
  },
  {
   "cell_type": "code",
   "execution_count": null,
   "id": "891283f0-6c83-4f42-a7e2-685cacdd3e33",
   "metadata": {
    "tags": []
   },
   "outputs": [],
   "source": [
    "df = pd.read_csv(data_path)\n",
    "df['chain'] = ['heavy' if l == 'IGH' else 'light' for l in df['locus']]"
   ]
  },
  {
   "cell_type": "code",
   "execution_count": null,
   "id": "e5e492ad-26e2-43fc-b50e-3f8ece01519b",
   "metadata": {},
   "outputs": [],
   "source": [
    "seqs = list(df.sequence_aa)\n",
    "seq_names = list(df.pair_id)\n",
    "chains = list(df.chain)"
   ]
  },
  {
   "cell_type": "markdown",
   "id": "97393058-e131-4df3-b4a2-2eb5e435ee66",
   "metadata": {},
   "source": [
    "## tokenize data"
   ]
  },
  {
   "cell_type": "code",
   "execution_count": null,
   "id": "f096b151-e5b2-4180-9d70-261be83577d8",
   "metadata": {
    "tags": []
   },
   "outputs": [],
   "source": [
    "tokenized_data = []\n",
    "for s in tqdm(seqs):\n",
    "    tokenized_data.append(tokenizer(s, return_tensors='pt').to('cuda'))"
   ]
  },
  {
   "cell_type": "markdown",
   "id": "9e815387-12a9-422e-9093-cf4247734e0d",
   "metadata": {},
   "source": [
    "## inference & extract embeddings"
   ]
  },
  {
   "cell_type": "code",
   "execution_count": null,
   "id": "3a939282-07da-4a88-b0fc-4028d683e454",
   "metadata": {
    "tags": []
   },
   "outputs": [],
   "source": [
    "@dataclass\n",
    "class ModelOutput:\n",
    "    '''\n",
    "    \n",
    "    '''\n",
    "    name: str\n",
    "    chain: str\n",
    "    mean_final_layer_embedding: np.ndarray"
   ]
  },
  {
   "cell_type": "code",
   "execution_count": null,
   "id": "d53856eb-6240-42a0-a435-aee1dea88fef",
   "metadata": {
    "tags": []
   },
   "outputs": [],
   "source": [
    "inputs = list(zip(seq_names, seqs, chains, tokenized_data))\n",
    "\n",
    "outputs = []\n",
    "with torch.no_grad():\n",
    "    for name, seq, chain, i in tqdm(inputs):\n",
    "        o = model(\n",
    "            **i,\n",
    "            output_hidden_states=True,\n",
    "            return_dict=False,\n",
    "        )\n",
    "        \n",
    "        # extract hidden states of final layer\n",
    "        # o is a tuple of (logits, hidden_states)\n",
    "        final_layer_hidden_state = np.array(o[1][-1][0].to('cpu'))\n",
    "\n",
    "        # average across sequence dimension and append to outputs\n",
    "        outputs.append(ModelOutput(name, chain, final_layer_hidden_state.mean(axis=0)))"
   ]
  },
  {
   "cell_type": "code",
   "execution_count": null,
   "id": "41276dac-288c-4153-b118-9b55cdb90fd8",
   "metadata": {
    "tags": []
   },
   "outputs": [],
   "source": [
    "with open('./unpaired_outputs_20k.pkl', 'wb') as f:\n",
    "    pickle.dump(outputs, f)"
   ]
  },
  {
   "cell_type": "markdown",
   "id": "c40d2b25-e466-493a-9a76-7d9f122ff964",
   "metadata": {},
   "source": [
    "## process outputs"
   ]
  },
  {
   "cell_type": "code",
   "execution_count": null,
   "id": "53282f75-f8c4-4a27-9470-a55aafe61ffc",
   "metadata": {},
   "outputs": [],
   "source": [
    "unpaired_hdata = {o.name: o.mean_final_layer_embedding for o in outputs if o.chain == 'heavy'}\n",
    "unpaired_hdf = pd.DataFrame(unpaired_hdata).T"
   ]
  },
  {
   "cell_type": "code",
   "execution_count": null,
   "id": "7a52315a-625b-4d2d-a6f1-37a54100cb91",
   "metadata": {},
   "outputs": [],
   "source": [
    "unpaired_ldata = {o.name: o.mean_final_layer_embedding for o in outputs if o.chain == 'light'}\n",
    "unpaired_ldf = pd.DataFrame(unpaired_ldata).T"
   ]
  },
  {
   "cell_type": "markdown",
   "id": "ba7b23b3-74d2-4772-a061-099b384264c7",
   "metadata": {},
   "source": [
    "Reformat heavy and light chain annotations for coloring plots:"
   ]
  },
  {
   "cell_type": "code",
   "execution_count": null,
   "id": "702d30f8-ca17-4143-b0ef-3a28d32e5233",
   "metadata": {},
   "outputs": [],
   "source": [
    "seqs = abutils.io.read_csv(data_path)\n",
    "pairs = abutils.pair.assign_pairs(seqs, id_key='pair_id')\n",
    "pdict = {p.name: p for p in pairs}"
   ]
  },
  {
   "cell_type": "code",
   "execution_count": null,
   "id": "9d6bfa84-e3fd-485c-bfee-04200e904b1a",
   "metadata": {},
   "outputs": [],
   "source": [
    "heavies = [pdict[p].heavy for p in unpaired_hdf.index.values]\n",
    "lights = [pdict[p].light for p in unpaired_ldf.index.values]"
   ]
  },
  {
   "cell_type": "markdown",
   "id": "46407ee5-3ffb-452a-850c-6af662e1de28",
   "metadata": {},
   "source": [
    "## UMAP"
   ]
  },
  {
   "cell_type": "code",
   "execution_count": null,
   "id": "891fca61-4ac9-4549-8f8e-bf1736b650e9",
   "metadata": {},
   "outputs": [],
   "source": [
    "unpaired_hreducer = umap.UMAP()\n",
    "unpaired_hembedding = unpaired_hreducer.fit_transform(unpaired_hdf)"
   ]
  },
  {
   "cell_type": "code",
   "execution_count": null,
   "id": "5e9e633f-eefe-4e26-b40e-c31f4336ec00",
   "metadata": {},
   "outputs": [],
   "source": [
    "unpaired_lreducer = umap.UMAP()\n",
    "unpaired_lembedding = unpaired_lreducer.fit_transform(unpaired_ldf)"
   ]
  },
  {
   "cell_type": "markdown",
   "id": "34acb33f-edd0-4c10-8b8f-fe7fe4bbda56",
   "metadata": {},
   "source": [
    "## plot - VH gene"
   ]
  },
  {
   "cell_type": "code",
   "execution_count": null,
   "id": "6656d6a2-76e7-4f85-b913-075564ce0574",
   "metadata": {},
   "outputs": [],
   "source": [
    "vh_fams = [h['v_gene'].split('-')[0] for h in heavies]\n",
    "vh_order = [f'IGHV{i}' for i in range(1, 8)]\n",
    "\n",
    "scatter(\n",
    "    x=unpaired_hembedding[:, 0],\n",
    "    y=unpaired_hembedding[:, 1],\n",
    "    hue=vh_fams,\n",
    "    hue_order=vh_order,\n",
    "    size=15,\n",
    "    alpha=0.1,\n",
    "    hide_legend=True,\n",
    "    xlabel='UMAP1',\n",
    "    ylabel='UMAP2',\n",
    "    xlabel_fontsize=14,\n",
    "    ylabel_fontsize=14,\n",
    "    figsize=[5, 5],\n",
    "    equal_axes=False,\n",
    "    #figfile='./figures/umap_unpaired-model_heavy-chains_vgene-colored_scatterplot.pdf'\n",
    ")"
   ]
  },
  {
   "cell_type": "markdown",
   "id": "7600d077-578e-4fc9-9a98-6ac348b92631",
   "metadata": {},
   "source": [
    "## plot - VH mutations"
   ]
  },
  {
   "cell_type": "code",
   "execution_count": null,
   "id": "2b5e8182-7cf1-478e-8c7e-abd6a5ea75d1",
   "metadata": {},
   "outputs": [],
   "source": [
    "def get_grey_zero_cmap(cmap):\n",
    "    base_cmap = mpl.cm.get_cmap(cmap).copy()\n",
    "    cropped_cmap = base_cmap(np.linspace(0.1, 1, 255))\n",
    "    cmap_colors = [np.array([0.8, 0.8, 0.8, 1.0])] + list(cropped_cmap)\n",
    "    return mpl.colors.LinearSegmentedColormap.from_list(\"mycmap\", cmap_colors)"
   ]
  },
  {
   "cell_type": "code",
   "execution_count": null,
   "id": "5c3241ea-60e0-42ad-b082-6aef2c271c74",
   "metadata": {},
   "outputs": [],
   "source": [
    "vh_muts = [float(min(50, h['v_mutation_count'])) for h in heavies]\n",
    "mut_cmap = get_grey_zero_cmap('YlOrRd')\n",
    "mut_cmap = get_grey_zero_cmap('Reds')\n",
    "\n",
    "\n",
    "scatter(\n",
    "    x=unpaired_hembedding[:, 0],\n",
    "    y=unpaired_hembedding[:, 1],\n",
    "    hue=vh_muts,\n",
    "    cmap=mut_cmap,\n",
    "    size=15,\n",
    "    alpha=0.1,\n",
    "    hide_legend=True,\n",
    "    hide_cbar=True,\n",
    "    xlabel='UMAP1',\n",
    "    ylabel='UMAP2',\n",
    "    xlabel_fontsize=14,\n",
    "    ylabel_fontsize=14,\n",
    "    figsize=[5, 5],\n",
    "    equal_axes=False,\n",
    "    #figfile='./figures/umap_unpaired-model_heavy-chains_mutation-colored_scatterplot.pdf'\n",
    ")"
   ]
  },
  {
   "cell_type": "markdown",
   "id": "8c8417ae-0a15-4d49-8ae5-928f38cb89f7",
   "metadata": {},
   "source": [
    "## plot - VL gene"
   ]
  },
  {
   "cell_type": "code",
   "execution_count": null,
   "id": "1c61adb4-94f9-49f5-9032-fe55c5efe811",
   "metadata": {},
   "outputs": [],
   "source": [
    "vl_fams = [l['v_gene'].split('-')[0].rstrip('D') for l in lights]\n",
    "vl_order = natsorted(set(vl_fams))\n",
    "\n",
    "scatter(\n",
    "    x=unpaired_lembedding[:, 0],\n",
    "    y=unpaired_lembedding[:, 1],\n",
    "    hue=vl_fams,\n",
    "    hue_order=vl_order,\n",
    "    color=sns.hls_palette(len(vl_order)),\n",
    "    size=15,\n",
    "    alpha=0.1,\n",
    "    hide_legend=True,\n",
    "    xlabel='UMAP1',\n",
    "    ylabel='UMAP2',\n",
    "    xlabel_fontsize=14,\n",
    "    ylabel_fontsize=14,\n",
    "    figsize=[5, 5],\n",
    "    equal_axes=False,\n",
    "    #figfile='./figures/umap_unpaired-model_light-chains_vgene-colored_scatterplot.pdf'\n",
    ")"
   ]
  },
  {
   "cell_type": "markdown",
   "id": "ab415be8-6406-4f84-a841-6475a3950b2a",
   "metadata": {},
   "source": [
    "## plot - VL mutations"
   ]
  },
  {
   "cell_type": "code",
   "execution_count": null,
   "id": "e0b2d9f6-e2d6-455f-b3f2-325463545ddb",
   "metadata": {},
   "outputs": [],
   "source": [
    "vl_muts = [float(min(50, l['v_mutation_count'])) for l in lights]\n",
    "mut_cmap = get_grey_zero_cmap('YlOrRd')\n",
    "mut_cmap = get_grey_zero_cmap('Reds')\n",
    "\n",
    "\n",
    "scatter(\n",
    "    x=unpaired_lembedding[:, 0],\n",
    "    y=unpaired_lembedding[:, 1],\n",
    "    hue=vl_muts,\n",
    "    cmap=mut_cmap,\n",
    "    size=15,\n",
    "    alpha=0.2,\n",
    "    hide_legend=True,\n",
    "    hide_cbar=True,\n",
    "    xlabel='UMAP1',\n",
    "    ylabel='UMAP2',\n",
    "    xlabel_fontsize=14,\n",
    "    ylabel_fontsize=14,\n",
    "    figsize=[5, 5],\n",
    "    equal_axes=False,\n",
    "    #figfile='./figures/umap_unpaired-model_light-chains_mutation-colored_scatterplot.pdf'\n",
    ")"
   ]
  }
 ],
 "metadata": {
  "kernelspec": {
   "display_name": "Python 3 (ipykernel)",
   "language": "python",
   "name": "python3"
  },
  "language_info": {
   "codemirror_mode": {
    "name": "ipython",
    "version": 3
   },
   "file_extension": ".py",
   "mimetype": "text/x-python",
   "name": "python",
   "nbconvert_exporter": "python",
   "pygments_lexer": "ipython3",
   "version": "3.11.9"
  }
 },
 "nbformat": 4,
 "nbformat_minor": 5
}
