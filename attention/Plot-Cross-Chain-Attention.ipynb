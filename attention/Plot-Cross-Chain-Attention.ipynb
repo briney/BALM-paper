{
 "cells": [
  {
   "cell_type": "markdown",
   "id": "745c6b52-3e5a-4fe0-b473-0dd2f6d48699",
   "metadata": {},
   "source": [
    "# plotting cross-chain attention"
   ]
  },
  {
   "cell_type": "markdown",
   "id": "e558f0b2-99fd-41be-9a9f-ac007f04fa82",
   "metadata": {},
   "source": [
    "This code plots the cross-chain attention of our representative therapetuic mAb, Masavibart. Before using this notebook, you must use the Extract-Cross-Chain-Attention.ipynb file to export a csv file with the attention values."
   ]
  },
  {
   "cell_type": "markdown",
   "id": "008a70a6-98b1-4816-a2c9-75a0baba59f0",
   "metadata": {},
   "source": [
    "### imports"
   ]
  },
  {
   "cell_type": "code",
   "execution_count": null,
   "id": "2a9947bb-63f1-499e-a46b-34e6bfe453fe",
   "metadata": {
    "tags": []
   },
   "outputs": [],
   "source": [
    "import pandas as pd\n",
    "import numpy as np\n",
    "\n",
    "import seaborn as sns\n",
    "import matplotlib.pyplot as plt"
   ]
  },
  {
   "cell_type": "markdown",
   "id": "767cd1eb-32f2-4ce0-9f13-68fbf43c9116",
   "metadata": {
    "tags": []
   },
   "source": [
    "### extract average attention"
   ]
  },
  {
   "cell_type": "code",
   "execution_count": null,
   "id": "4722389d-6193-4ef1-bbd2-462ca5574094",
   "metadata": {
    "tags": []
   },
   "outputs": [],
   "source": [
    "def avg_attention(cc_attention_df):\n",
    "    layer_dfs = []\n",
    "    for layer in sorted(cc_attention_df[\"layer\"].unique()):\n",
    "\n",
    "        head_dfs = []\n",
    "        for head in sorted(cc_attention_df[\"head\"].unique()):\n",
    "            cc_attention_sq = pd.pivot(\n",
    "                data = cc_attention_df[(cc_attention_df[\"layer\"] == layer) & (cc_attention_df[\"head\"] == head)], \n",
    "                index=\"position1\", \n",
    "                columns=\"position2\", \n",
    "                values=\"attention\",\n",
    "            )\n",
    "\n",
    "            hlen = sum(cc_attention_sq[1].isna())\n",
    "            hl_sqdf = cc_attention_sq.iloc[:hlen, hlen:]\n",
    "            lh_sqdf = cc_attention_sq.iloc[hlen:, :hlen].T\n",
    "\n",
    "            sum_sqdf = hl_sqdf + lh_sqdf / 2 # average\n",
    "\n",
    "            head_dfs.append(sum_sqdf)\n",
    "\n",
    "        # average of all 20 heads\n",
    "        head_dfs = sum(head_dfs) / 20\n",
    "        layer_dfs.append(head_dfs)\n",
    "\n",
    "    # average of all 33 layers\n",
    "    avg_layer_dfs = sum(layer_dfs) / 33\n",
    "    return avg_layer_dfs"
   ]
  },
  {
   "cell_type": "code",
   "execution_count": null,
   "id": "1a9fcc11-e6eb-4ab2-9a5d-0832de9b1425",
   "metadata": {
    "tags": []
   },
   "outputs": [],
   "source": [
    "# Import full-attention file\n",
    "masavibart_full = pd.read_csv('./attention-results/Masavibart.csv')\n",
    "\n",
    "# Extract cross-chain attention values and extract average attention\n",
    "masavibart_cc = masavibart_full[masavibart_full[\"comparison\"] == \"cross-chain\"]\n",
    "masavibart_df = avg_attention(masavibart_cc)"
   ]
  },
  {
   "cell_type": "markdown",
   "id": "f5ab6333-bae6-4975-9a71-ddcbcf3d6308",
   "metadata": {},
   "source": [
    "### extract heavy and light chain values"
   ]
  },
  {
   "cell_type": "code",
   "execution_count": null,
   "id": "5b782424-b87b-4ce5-9e42-3c27a674918e",
   "metadata": {
    "tags": []
   },
   "outputs": [],
   "source": [
    "subtract_val = int(masavibart_df.columns[0]) - 1\n",
    "masavibart_df.columns = [int(c) - subtract_val for c in masavibart_df.columns]\n",
    "masavibart_df.columns.name = \"light chain\""
   ]
  },
  {
   "cell_type": "code",
   "execution_count": null,
   "id": "b360b9cb-a434-4417-a8e3-e8cbfe58d06b",
   "metadata": {
    "tags": []
   },
   "outputs": [],
   "source": [
    "# heavy-chain values\n",
    "hc_vals = masavibart_df.sum(axis=1)\n",
    "hc_vals = (hc_vals - hc_vals.min()) / (hc_vals.max() - hc_vals.min())\n",
    "\n",
    "hc_vals = [f\"{k}\\t{v}\" for k, v in hc_vals.items()]"
   ]
  },
  {
   "cell_type": "code",
   "execution_count": null,
   "id": "87b07dab-8ae8-4811-9486-953434187d08",
   "metadata": {
    "tags": []
   },
   "outputs": [],
   "source": [
    "# light-chain values\n",
    "lc_vals = masavibart_df.sum(axis=0)\n",
    "lc_vals = (lc_vals - lc_vals.min()) / (lc_vals.max() - lc_vals.min())\n",
    "\n",
    "lc_vals = [f\"{k}\\t{v}\" for k, v in lc_vals.items()]"
   ]
  },
  {
   "cell_type": "markdown",
   "id": "adde4757-74fd-4595-836b-9b064f01fa34",
   "metadata": {},
   "source": [
    "### CDR & cysteine positions for Masavibart"
   ]
  },
  {
   "cell_type": "code",
   "execution_count": null,
   "id": "364fe9b3-c785-4a43-b506-78b1f87fb558",
   "metadata": {
    "tags": []
   },
   "outputs": [],
   "source": [
    "hcdr_positions = {\n",
    "    \"CDR1\": [25, 33],\n",
    "    \"CDR2\": [50, 58],\n",
    "    \"CDR3\": [96, 109],\n",
    "}\n",
    "\n",
    "lcdr_positions = {\n",
    "    \"CDR1\": [26, 35],\n",
    "    \"CDR2\": [52, 55],\n",
    "    \"CDR3\": [91, 101],\n",
    "}\n",
    "\n",
    "h_cysteines = [21, 95]\n",
    "l_cysteines = [22, 90]"
   ]
  },
  {
   "cell_type": "markdown",
   "id": "038fb8d2-128e-4766-983e-1fa915d4361b",
   "metadata": {},
   "source": [
    "### plot heatmap"
   ]
  },
  {
   "cell_type": "code",
   "execution_count": null,
   "id": "e888b115-f1da-4216-b32e-45ad447accee",
   "metadata": {
    "tags": []
   },
   "outputs": [],
   "source": [
    "sns.heatmap(data=masavibart_df, cmap=\"viridis\")\n",
    "\n",
    "ax = plt.gca()\n",
    "\n",
    "# set up the ticks and labels (CDR1/2/3 labels)\n",
    "xlabels = sorted(lcdr_positions.keys())\n",
    "ylabels = sorted(hcdr_positions.keys())\n",
    "\n",
    "xticks = [np.mean(lcdr_positions[l]) - 0.5 for l in ylabels]\n",
    "ax.set_xticks(xticks)\n",
    "ax.set_xticklabels(xlabels, va=\"center\", ha=\"center\")\n",
    "ax.tick_params(axis=\"x\", labelrotation=0, width=0, pad=6, labelsize=11)\n",
    "\n",
    "\n",
    "yticks = [np.mean(hcdr_positions[l]) - 0.5 for l in xlabels]\n",
    "ax.set_yticks(yticks)\n",
    "ax.set_yticklabels(ylabels, va=\"center\", ha=\"right\")\n",
    "ax.tick_params(axis=\"y\", labelrotation=0, width=0, pad=2, labelsize=11)\n",
    "\n",
    "\n",
    "# x/y axis limits\n",
    "xmin, xmax = ax.get_xlim()\n",
    "ymin, ymax = ax.get_ylim()\n",
    "\n",
    "\n",
    "# plot the CDR position lines\n",
    "plt.plot([-2, -2], [ymin, ymax], color=\"#D0D0D0\", linewidth=3)\n",
    "for region in hcdr_positions:\n",
    "    minval, maxval = hcdr_positions[region]\n",
    "    plt.plot([-2, -2], [minval, maxval], color=\"k\", linewidth=3)\n",
    "ax.set_xlim([-3, xmax + 6])\n",
    "\n",
    "plt.plot([xmin, xmax], [ymin + 2, ymin + 2], color=\"#D0D0D0\", linewidth=3)\n",
    "for region in lcdr_positions:\n",
    "    minval, maxval = lcdr_positions[region]\n",
    "    plt.plot([minval, maxval], [ymin + 2, ymin + 2], color=\"k\", linewidth=3)\n",
    "ax.set_ylim([ymin + 3, ymax - 4])\n",
    "\n",
    "\n",
    "# add markers for light chain cysteines\n",
    "for cys in l_cysteines:\n",
    "    ax.annotate(\n",
    "        \"\", \n",
    "        xy=[cys + 0.5, ymax - 1],\n",
    "        xytext=[cys + 0.5, ymax - 10],\n",
    "            arrowprops={\n",
    "                \"arrowstyle\": \"-|>\", \n",
    "                \"mutation_scale\": 14,\n",
    "                \"facecolor\": \"k\",\n",
    "                \"edgecolor\": \"k\",\n",
    "            },\n",
    "    )\n",
    "ax.text(l_cysteines[0] + 2, ymax - 10, \"cysteine\", ha=\"left\", va=\"top\", fontsize=9)\n",
    "\n",
    "\n",
    "for cys in h_cysteines:\n",
    "    ax.annotate(\n",
    "        \"\", \n",
    "        xy=[xmax + 1, cys + 0.5],\n",
    "        xytext=[xmax + 8, cys + 0.5],\n",
    "            arrowprops={\n",
    "                \"arrowstyle\": \"-|>\", \n",
    "                \"mutation_scale\": 14,\n",
    "                \"facecolor\": \"k\",\n",
    "                \"edgecolor\": \"k\",\n",
    "            },\n",
    "    )\n",
    "\n",
    "\n",
    "# add heavy/light chain labels\n",
    "ax.set_xlabel(\"\", fontsize=0)\n",
    "ax.set_ylabel(\"\", fontsize=0)\n",
    "ax.text(-4, ymax, \"heavy\\nchain\", ha=\"right\", va=\"top\", rotation=0, fontsize=14, color=\"grey\")\n",
    "ax.text(ymax, ymin + 4, \"light\\nchain\", ha=\"left\", va=\"top\", fontsize=14, color=\"grey\")\n",
    "\n",
    "plt.tight_layout()\n",
    "plt.show()"
   ]
  },
  {
   "cell_type": "markdown",
   "id": "dfe14811-24f4-46bd-9ff7-b0fbdc18a350",
   "metadata": {},
   "source": [
    "### plot heavy-chain attention linearly"
   ]
  },
  {
   "cell_type": "code",
   "execution_count": null,
   "id": "e7436921-bec9-455d-ba71-cc23c27e0a4a",
   "metadata": {
    "tags": []
   },
   "outputs": [],
   "source": [
    "df = masavibart_df\n",
    "\n",
    "plt.figure(figsize=[6, 2])\n",
    "\n",
    "max_val = df.sum(axis=1).max()\n",
    "\n",
    "plt.step(\n",
    "    x=range(df.shape[0]), \n",
    "    # y=df.sum(axis=1),\n",
    "    y=df.sum(axis=1) / max_val,\n",
    "    where=\"mid\",\n",
    "    color=\"grey\",\n",
    "    lw=1,\n",
    ")\n",
    "\n",
    "plt.fill_between(\n",
    "    x=range(df.shape[0]), \n",
    "    # y1=df.sum(axis=1),\n",
    "    y1=df.sum(axis=1) / max_val,\n",
    "    alpha=0.2,\n",
    "    color=\"lightgrey\",\n",
    "    step=\"mid\",\n",
    ")\n",
    "\n",
    "ax = plt.gca()\n",
    "\n",
    "for s in ax.spines:\n",
    "    ax.spines[s].set_visible(False)\n",
    "    \n",
    "\n",
    "ax.set_xticks([])\n",
    "label_offset = 0.05\n",
    "\n",
    "for region in hcdr_positions:\n",
    "    start, end = hcdr_positions[region]\n",
    "    # plt.hlines(-0.025, start, end, color=\"k\")\n",
    "    plt.text(\n",
    "        x=start + ((end - start) / 2), \n",
    "        y=-label_offset, \n",
    "        s=region, \n",
    "        va=\"top\", \n",
    "        ha=\"center\",\n",
    "        fontsize=13,\n",
    "    )\n",
    "    plt.step(\n",
    "        x=range(start, end + 1), \n",
    "        # y=df.sum(axis=1)[start:end + 1],\n",
    "        y=df.sum(axis=1)[start:end + 1] / max_val,\n",
    "        where=\"mid\",\n",
    "        # color=\"r\",\n",
    "        color=plt.colormaps[\"viridis\"](0),\n",
    "        alpha=0.5,\n",
    "        lw=1.5,\n",
    "    )\n",
    "    plt.fill_between(\n",
    "        x=range(start, end + 1), \n",
    "        # y1=df.sum(axis=1)[start:end + 1],\n",
    "        y1=df.sum(axis=1)[start:end + 1] / max_val,\n",
    "        alpha=0.4,\n",
    "        # color=\"r\",\n",
    "        color=plt.colormaps[\"viridis\"](0),\n",
    "        step=\"mid\",\n",
    "    )\n",
    "\n",
    "# arrow_offset = df.sum(axis=1).max() * 0.05\n",
    "arrow_offset = 0.05\n",
    "arrow_length = arrow_offset * 5\n",
    "\n",
    "for cys in h_cysteines:\n",
    "    ax.annotate(\n",
    "        \"\", \n",
    "        xy=[cys, (df.sum(axis=1) / max_val)[cys + 1] + arrow_offset],\n",
    "        xytext=[cys, (df.sum(axis=1) / max_val)[cys + 1] + arrow_length],\n",
    "            arrowprops={\n",
    "                \"arrowstyle\": \"-|>\", \n",
    "                \"mutation_scale\": 14,\n",
    "                \"facecolor\": \"k\",\n",
    "                \"edgecolor\": \"k\",\n",
    "            },\n",
    "    )\n",
    "\n",
    "ax.set_xlim([-1, 120])    \n",
    "\n",
    "ax.tick_params(axis=\"y\", labelsize=11)\n",
    "ax.set_ylim([0, 1.19])\n",
    "\n",
    "plt.tight_layout()\n",
    "plt.show()"
   ]
  },
  {
   "cell_type": "markdown",
   "id": "3b746720-8686-4101-a527-33be5028be55",
   "metadata": {},
   "source": [
    "### plot light-chain attention linearly"
   ]
  },
  {
   "cell_type": "code",
   "execution_count": null,
   "id": "3c686197-ea45-4959-aeac-8fc5b674a649",
   "metadata": {
    "tags": []
   },
   "outputs": [],
   "source": [
    "df = masavibart_df.T\n",
    "\n",
    "plt.figure(figsize=[6, 2])\n",
    "\n",
    "max_val = df.sum(axis=1).max()\n",
    "\n",
    "plt.step(\n",
    "    x=range(df.shape[0]), \n",
    "    # y=df.sum(axis=1),\n",
    "    y=df.sum(axis=1) / max_val,\n",
    "    where=\"mid\",\n",
    "    color=\"grey\",\n",
    "    lw=1,\n",
    ")\n",
    "\n",
    "plt.fill_between(\n",
    "    x=range(df.shape[0]), \n",
    "    # y1=df.sum(axis=1),\n",
    "    y1=df.sum(axis=1) / max_val,\n",
    "    alpha=0.2,\n",
    "    color=\"lightgrey\",\n",
    "    step=\"mid\",\n",
    ")\n",
    "\n",
    "ax = plt.gca()\n",
    "\n",
    "for s in ax.spines:\n",
    "    ax.spines[s].set_visible(False)\n",
    "    \n",
    "ax.set_xticks([])\n",
    "\n",
    "label_offset = 0.05\n",
    "\n",
    "for region in lcdr_positions:\n",
    "    start, end = lcdr_positions[region]\n",
    "    plt.text(\n",
    "        x=start + ((end - start) / 2), \n",
    "        y=-label_offset, \n",
    "        s=region, \n",
    "        va=\"top\", \n",
    "        ha=\"center\",\n",
    "        fontsize=12,\n",
    "    )\n",
    "    plt.step(\n",
    "        x=range(start, end + 1), \n",
    "        y=(df.sum(axis=1) / max_val)[start:end + 1],\n",
    "        where=\"mid\",\n",
    "        # color=\"r\",\n",
    "        color=plt.colormaps[\"viridis\"](0),\n",
    "        alpha=0.5,\n",
    "        lw=1.5,\n",
    "    )\n",
    "    plt.fill_between(\n",
    "        x=range(start, end + 1), \n",
    "        y1=(df.sum(axis=1) / max_val)[start:end + 1],\n",
    "        alpha=0.4,\n",
    "        # color=\"r\",\n",
    "        color=plt.colormaps[\"viridis\"](0),\n",
    "        step=\"mid\",\n",
    "    )\n",
    "\n",
    "arrow_offset = 0.05\n",
    "arrow_length = arrow_offset * 5\n",
    "\n",
    "for cys in l_cysteines:\n",
    "        ax.annotate(\n",
    "        \"\", \n",
    "        xy=[cys,(df.sum(axis=1) / max_val)[cys + 1] + arrow_offset],\n",
    "        xytext=[cys, (df.sum(axis=1) / max_val)[cys + 1] + arrow_length],\n",
    "            arrowprops={\n",
    "                \"arrowstyle\": \"-|>\", \n",
    "                \"mutation_scale\": 14,\n",
    "                \"facecolor\": \"k\",\n",
    "                \"edgecolor\": \"k\",\n",
    "            },\n",
    "    )\n",
    "        \n",
    "\n",
    "ax.set_xlim([-1, 110])\n",
    "\n",
    "ax.tick_params(axis=\"y\", labelsize=11)\n",
    "ax.set_ylim([0, 1.19])\n",
    "\n",
    "plt.tight_layout()\n",
    "plt.show()"
   ]
  }
 ],
 "metadata": {
  "kernelspec": {
   "display_name": "Python 3 (ipykernel)",
   "language": "python",
   "name": "python3"
  },
  "language_info": {
   "codemirror_mode": {
    "name": "ipython",
    "version": 3
   },
   "file_extension": ".py",
   "mimetype": "text/x-python",
   "name": "python",
   "nbconvert_exporter": "python",
   "pygments_lexer": "ipython3",
   "version": "3.9.16"
  }
 },
 "nbformat": 4,
 "nbformat_minor": 5
}
